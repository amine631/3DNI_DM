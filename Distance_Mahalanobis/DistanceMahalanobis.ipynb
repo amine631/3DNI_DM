{
 "cells": [
  {
   "cell_type": "markdown",
   "id": "12d6f848",
   "metadata": {},
   "source": [
    "<h1> Objectifs:</h1>\n",
    "\n",
    "<b>1.</b> Calculer la distance de Mahalanobis avec la fonction cdist() dans la bibliothèque scipy.spatial.distance en Python.\n",
    "\n",
    "\n",
    "<b>2.</b> Calculer la distance de Mahalanobis avec la méthode numpy.einsum() en Python."
   ]
  },
  {
   "cell_type": "markdown",
   "id": "43bf23d5",
   "metadata": {},
   "source": [
    "<h2> Calculer la distance de Mahalanobis avec la fonction cdist() dans la bibliothèque scipy.spatial.distance en Python</h2>"
   ]
  },
  {
   "cell_type": "markdown",
   "id": "b4550784",
   "metadata": {},
   "source": [
    "La distance de Mahalanobis est la mesure de la distance entre un point et une distribution. Si nous voulons trouver la distance de Mahalanobis entre deux tableaux, nous pouvons utiliser la fonction <b>cdist()</b> à l’intérieur de la bibliothèque scipy.spatial.distance en Python. La fonction <b>cdist() </b>calcule la distance entre deux collections. On peut spécifier mahalanobis dans les paramètres d’entrée pour trouver la distance de Mahalanobis. Voir l’exemple de code suivant."
   ]
  },
  {
   "cell_type": "code",
   "execution_count": 1,
   "id": "bfd91941",
   "metadata": {},
   "outputs": [
    {
     "name": "stdout",
     "output_type": "stream",
     "text": [
      "[3.63263583 2.59094773 1.97370848 1.97370848 2.177978   3.04256456\n",
      " 3.04256456 1.54080605 2.58298363]\n"
     ]
    }
   ],
   "source": [
    "import numpy as np\n",
    "from scipy.spatial.distance import cdist\n",
    "\n",
    "x = np.array([[[1,2,3],\n",
    "               [3,4,5],\n",
    "               [5,6,7]],\n",
    "              [[5,6,7],\n",
    "               [7,8,9],\n",
    "               [9,0,1]]])\n",
    "\n",
    "i,j,k = x.shape\n",
    "\n",
    "xx = x.reshape(i,j*k).T\n",
    "\n",
    "\n",
    "y = np.array([[[8,7,6],\n",
    "               [6,5,4],\n",
    "               [4,3,2]],\n",
    "              [[4,3,2],\n",
    "               [2,1,0],\n",
    "               [0,1,2]]])\n",
    "\n",
    "\n",
    "yy = y.reshape(i,j*k).T\n",
    "\n",
    "results =  cdist(xx,yy,'mahalanobis')\n",
    "\n",
    "results = np.diag(results)\n",
    "print (results)"
   ]
  },
  {
   "cell_type": "markdown",
   "id": "6b43402a",
   "metadata": {},
   "source": [
    "Nous avons calculé et stocké la distance de Mahalanobis entre les tableaux x et y avec la fonction cdist() dans le code ci-dessus. Nous avons d’abord créé les deux tableaux avec la fonction np.array(). Nous avons ensuite remodelé les deux tableaux et enregistré la transposition dans les nouveaux tableaux xx et yy. Nous avons ensuite passé ces nouveaux tableaux à la fonction cdist() et spécifié mahalanobis dans les paramètres avec cdist(xx,yy,'mahalanobis')."
   ]
  },
  {
   "cell_type": "markdown",
   "id": "7cbfe9d6",
   "metadata": {},
   "source": [
    "<h2>Calculer la distance de Mahalanobis avec la méthode numpy.einsum() en Python</h2>"
   ]
  },
  {
   "cell_type": "markdown",
   "id": "45df8bdb",
   "metadata": {},
   "source": [
    "On peut aussi calculer la distance de Mahalanobis entre deux tableaux en utilisant la méthode <b>numpy.einsum()</b>. La méthode <b>numpy.einsum() </b>est utilisée pour évaluer la convention de sommation d’Einstein sur les paramètres d’entrée."
   ]
  },
  {
   "cell_type": "code",
   "execution_count": 2,
   "id": "9d9297f7",
   "metadata": {},
   "outputs": [
    {
     "name": "stdout",
     "output_type": "stream",
     "text": [
      "[3.63263583 2.59094773 1.97370848 1.97370848 2.177978   3.04256456\n",
      " 3.04256456 1.54080605 2.58298363]\n"
     ]
    }
   ],
   "source": [
    "import numpy as np\n",
    "\n",
    "x = np.array([[[1,2,3],\n",
    "               [3,4,5],\n",
    "               [5,6,7]],\n",
    "              [[5,6,7],\n",
    "               [7,8,9],\n",
    "               [9,0,1]]])\n",
    "i,j,k = x.shape\n",
    "\n",
    "xx = x.reshape(i,j*k).T\n",
    "\n",
    "\n",
    "y = np.array([[[8,7,6],\n",
    "               [6,5,4],\n",
    "               [4,3,2]],\n",
    "              [[4,3,2],\n",
    "               [2,1,0],\n",
    "               [0,1,2]]])\n",
    "\n",
    "\n",
    "yy = y.reshape(i,j*k).T\n",
    "\n",
    "X = np.vstack([xx,yy])\n",
    "V = np.cov(X.T)\n",
    "VI = np.linalg.inv(V)\n",
    "delta = xx - yy\n",
    "results = np.sqrt(np.einsum('nj,jk,nk->n', delta, VI, delta))\n",
    "print(results)"
   ]
  },
  {
   "cell_type": "markdown",
   "id": "33be5183",
   "metadata": {},
   "source": [
    "Nous avons passé des tableaux à la fonction np.vstack() et stocké la valeur dans le X. Après cela, nous avons passé la transposition de X à la fonction np.cov() et stocké le résultat à l’intérieur de V. Nous avons ensuite calculé l’inverse multiplicatif de la matrice V et stocké le résultat dans VI. Nous avons calculé la différence entre xx et yy et stocké les résultats dans delta. Au final, nous avons calculé et stocké la distance de Mahalanobis entre x et y avec results = np.sqrt(np.einsum('nj,jk,nk->n', delta, VI, delta))."
   ]
  },
  {
   "cell_type": "code",
   "execution_count": null,
   "id": "365dd81a",
   "metadata": {},
   "outputs": [],
   "source": []
  }
 ],
 "metadata": {
  "kernelspec": {
   "display_name": "Python 3",
   "language": "python",
   "name": "python3"
  },
  "language_info": {
   "codemirror_mode": {
    "name": "ipython",
    "version": 3
   },
   "file_extension": ".py",
   "mimetype": "text/x-python",
   "name": "python",
   "nbconvert_exporter": "python",
   "pygments_lexer": "ipython3",
   "version": "3.8.8"
  }
 },
 "nbformat": 4,
 "nbformat_minor": 5
}
